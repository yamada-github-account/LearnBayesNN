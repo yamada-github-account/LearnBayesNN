{
  "nbformat": 4,
  "nbformat_minor": 0,
  "metadata": {
    "colab": {
      "name": "JointDistribution.ipynb",
      "provenance": [],
      "authorship_tag": "ABX9TyPSNTXVjGWUUAxIvofKV1sq",
      "include_colab_link": true
    },
    "kernelspec": {
      "name": "python3",
      "display_name": "Python 3"
    }
  },
  "cells": [
    {
      "cell_type": "markdown",
      "metadata": {
        "id": "view-in-github",
        "colab_type": "text"
      },
      "source": [
        "<a href=\"https://colab.research.google.com/github/yamada-github-account/LearnBayesNN/blob/master/JointDistribution.ipynb\" target=\"_parent\"><img src=\"https://colab.research.google.com/assets/colab-badge.svg\" alt=\"Open In Colab\"/></a>"
      ]
    },
    {
      "cell_type": "code",
      "metadata": {
        "id": "jQKmITk9lMEO",
        "colab_type": "code",
        "colab": {}
      },
      "source": [
        "import numpy as np\n",
        "import matplotlib.pyplot as plt\n",
        "import matplotlib.dates as mdates\n",
        "import tensorflow as tf\n",
        "import tensorflow_probability as tfp\n",
        "from tensorflow_probability import distributions as tfd\n",
        "\n",
        "%matplotlib inline"
      ],
      "execution_count": 1,
      "outputs": []
    },
    {
      "cell_type": "code",
      "metadata": {
        "id": "D6NmdzRdCf-K",
        "colab_type": "code",
        "colab": {
          "base_uri": "https://localhost:8080/",
          "height": 452
        },
        "outputId": "03776fbe-7270-407a-f2ff-933778d56826"
      },
      "source": [
        "# https://www.hellocybernetics.tech/entry/2019/10/13/220834\n",
        "\n",
        "# テストデータ生成\n",
        "def toy_data():\n",
        "    x = np.random.uniform(0, 5, 30)\n",
        "    y = 5 * x - 3 + np.random.normal(0, 2, 30)\n",
        "    return x, y\n",
        "x_np, y_np = toy_data()\n",
        "\n",
        "plt.plot(x_np, y_np, \"o\")\n",
        "\n",
        "\n",
        "# 変数を Tensor に\n",
        "x = tf.convert_to_tensor(\n",
        "    x_np,\n",
        "    dtype=tf.float32\n",
        ")\n",
        "\n",
        "y = tf.convert_to_tensor(\n",
        "    y_np,\n",
        "    dtype=tf.float32\n",
        ")\n",
        "\n",
        "# 同時分布をコルーティンで記述\n",
        "# TODO: うまく x を渡せずに、グローバル変数として参照してしまっている。要改善\n",
        "Root = tfd.JointDistributionCoroutine.Root\n",
        "def model():\n",
        "    a = yield Root(tfd.Normal(loc=0, scale=10.))\n",
        "    b = yield Root(tfd.Normal(loc=0, scale=10.))\n",
        "    y = yield tfd.Normal(loc=a * x + b, scale=tf.constant(2.0)) # 最後だけRootが不要？\n",
        "\n",
        "\n",
        "joint = tfd.JointDistributionCoroutine(model)\n",
        "\n",
        "joint.sample() # yield した順の a, b, y に対応する Tensor が入っている。 どうして、y だけ、こんなに数多くサンプリングされている？？？"
      ],
      "execution_count": 2,
      "outputs": [
        {
          "output_type": "execute_result",
          "data": {
            "text/plain": [
              "(<tf.Tensor: shape=(), dtype=float32, numpy=-4.0771313>,\n",
              " <tf.Tensor: shape=(), dtype=float32, numpy=1.883197>,\n",
              " <tf.Tensor: shape=(30,), dtype=float32, numpy=\n",
              " array([ -8.56498   ,   2.725658  ,  -0.3357007 ,  -9.118738  ,\n",
              "         -4.7275724 , -19.691103  , -16.478008  ,  -7.795014  ,\n",
              "         -4.924556  , -11.296547  ,  -6.235127  ,  -4.8088236 ,\n",
              "        -19.318563  ,  -9.06465   ,  -4.4872723 ,  -2.315465  ,\n",
              "          3.4264212 , -15.551891  ,  -6.042547  ,  -9.460787  ,\n",
              "        -14.553655  , -11.598912  ,  -2.6558683 , -20.630651  ,\n",
              "         -6.2580657 , -12.528958  , -13.636215  ,  -4.466802  ,\n",
              "         -0.53258723, -19.69193   ], dtype=float32)>)"
            ]
          },
          "metadata": {
            "tags": []
          },
          "execution_count": 2
        },
        {
          "output_type": "display_data",
          "data": {
            "image/png": "[encoded data removed]",
            "text/plain": [
              "<Figure size 432x288 with 1 Axes>"
            ]
          },
          "metadata": {
            "tags": [],
            "needs_background": "light"
          }
        }
      ]
    },
    {
      "cell_type": "code",
      "metadata": {
        "id": "rOUP9-_WJzJC",
        "colab_type": "code",
        "colab": {
          "base_uri": "https://localhost:8080/",
          "height": 282
        },
        "outputId": "68110f4d-f9d3-435c-c32d-598d59546029"
      },
      "source": [
        "plt.plot(x.numpy(), joint.sample()[-1].numpy(), \"o\")"
      ],
      "execution_count": 3,
      "outputs": [
        {
          "output_type": "execute_result",
          "data": {
            "text/plain": [
              "[<matplotlib.lines.Line2D at 0x7ffb7a310be0>]"
            ]
          },
          "metadata": {
            "tags": []
          },
          "execution_count": 3
        },
        {
          "output_type": "display_data",
          "data": {
            "image/png": "[encoded data removed]",
            "text/plain": [
              "<Figure size 432x288 with 1 Axes>"
            ]
          },
          "metadata": {
            "tags": [],
            "needs_background": "light"
          }
        }
      ]
    },
    {
      "cell_type": "code",
      "metadata": {
        "id": "VoCwH6n1iNI4",
        "colab_type": "code",
        "colab": {}
      },
      "source": [
        "# TODO: うまく y を渡せずに、グローバル変数として参照してしまっている。要改善\n",
        "def unnormalized_log_posterior(a, b):\n",
        "    return tf.reduce_mean(joint.log_prob([a, b, y]))"
      ],
      "execution_count": 4,
      "outputs": []
    },
    {
      "cell_type": "code",
      "metadata": {
        "id": "DVX8NIbgkPmy",
        "colab_type": "code",
        "colab": {}
      },
      "source": [
        "# 勾配ベースで計算をするメトロポリスヘイスティング法の発展版NUTS\n",
        "kernel = tfp.mcmc.NoUTurnSampler(\n",
        "      target_log_prob_fn=unnormalized_log_posterior,\n",
        "      step_size=0.1,\n",
        ")"
      ],
      "execution_count": 5,
      "outputs": []
    },
    {
      "cell_type": "code",
      "metadata": {
        "id": "xZrpK1eCk0Vh",
        "colab_type": "code",
        "colab": {
          "base_uri": "https://localhost:8080/",
          "height": 71
        },
        "outputId": "2d25b1ee-1147-4dda-d597-757ecae57030"
      },
      "source": [
        "# tf.function でデコレートしておかないと遅いらしい\n",
        "@tf.function()\n",
        "def run_chain():\n",
        "    init_state = list(joint.sample()[:-1]) # a, b\n",
        "    chains_states, kernels_results = tfp.mcmc.sample_chain(\n",
        "        num_results=1000,\n",
        "        num_burnin_steps=300,\n",
        "        current_state=init_state,\n",
        "        kernel=kernel\n",
        "    )\n",
        "    return chains_states, kernels_results\n",
        "\n",
        "# Sample from posterior distribution and get diagnostic\n",
        "chain_states, kernel_results = run_chain()"
      ],
      "execution_count": 6,
      "outputs": [
        {
          "output_type": "stream",
          "text": [
            "/usr/local/lib/python3.6/dist-packages/tensorflow_probability/python/mcmc/sample.py:333: UserWarning: Tracing all kernel results by default is deprecated. Set the `trace_fn` argument to None (the future default value) or an explicit callback that traces the values you are interested in.\n",
            "  warnings.warn(\"Tracing all kernel results by default is deprecated. Set \"\n"
          ],
          "name": "stderr"
        }
      ]
    },
    {
      "cell_type": "code",
      "metadata": {
        "id": "pnSP4KdIlBJY",
        "colab_type": "code",
        "colab": {
          "base_uri": "https://localhost:8080/",
          "height": 513
        },
        "outputId": "edf8e9b9-0559-490e-9766-50de4d8d3a46"
      },
      "source": [
        "a = chain_states[0]\n",
        "b = chain_states[1]\n",
        "\n",
        "# a\n",
        "plt.hist(a)\n",
        "plt.show()\n",
        "\n",
        "# b\n",
        "plt.hist(b)\n",
        "plt.show()"
      ],
      "execution_count": 7,
      "outputs": [
        {
          "output_type": "display_data",
          "data": {
            "image/png": "[encoded data removed]",
            "text/plain": [
              "<Figure size 432x288 with 1 Axes>"
            ]
          },
          "metadata": {
            "tags": [],
            "needs_background": "light"
          }
        },
        {
          "output_type": "display_data",
          "data": {
            "image/png": "[encoded data removed]",
            "text/plain": [
              "<Figure size 432x288 with 1 Axes>"
            ]
          },
          "metadata": {
            "tags": [],
            "needs_background": "light"
          }
        }
      ]
    },
    {
      "cell_type": "code",
      "metadata": {
        "id": "-pvV3fMblT7X",
        "colab_type": "code",
        "colab": {
          "base_uri": "https://localhost:8080/",
          "height": 282
        },
        "outputId": "75fed6a1-cc6c-4a9a-af19-8a65b364341c"
      },
      "source": [
        "# EAP推定 (分布の平均値の利用)\n",
        "\n",
        "x_ = tf.convert_to_tensor(np.linspace(0,5,100), dtype=tf.float32)\n",
        "y_ = tf.reduce_mean(a) * x_ + tf.reduce_mean(b)\n",
        "\n",
        "plt.plot(x_,y_)\n",
        "plt.plot(x,y,\"o\")"
      ],
      "execution_count": 8,
      "outputs": [
        {
          "output_type": "execute_result",
          "data": {
            "text/plain": [
              "[<matplotlib.lines.Line2D at 0x7ffb78dc4550>]"
            ]
          },
          "metadata": {
            "tags": []
          },
          "execution_count": 8
        },
        {
          "output_type": "display_data",
          "data": {
            "image/png": "[encoded data removed]",
            "text/plain": [
              "<Figure size 432x288 with 1 Axes>"
            ]
          },
          "metadata": {
            "tags": [],
            "needs_background": "light"
          }
        }
      ]
    },
    {
      "cell_type": "code",
      "metadata": {
        "id": "UZ_VkyI8ns05",
        "colab_type": "code",
        "colab": {}
      },
      "source": [
        ""
      ],
      "execution_count": 8,
      "outputs": []
    }
  ]
}