{
  "nbformat": 4,
  "nbformat_minor": 0,
  "metadata": {
    "colab": {
      "name": "AnalyticBernoulli.ipynb",
      "provenance": [],
      "authorship_tag": "ABX9TyM53oei6QLoWQd+bJYcCaKc",
      "include_colab_link": true
    },
    "kernelspec": {
      "name": "python3",
      "display_name": "Python 3"
    }
  },
  "cells": [
    {
      "cell_type": "markdown",
      "metadata": {
        "id": "view-in-github",
        "colab_type": "text"
      },
      "source": [
        "<a href=\"https://colab.research.google.com/github/yamada-github-account/LearnBayesNN/blob/master/AnalyticBernoulli.ipynb\" target=\"_parent\"><img src=\"https://colab.research.google.com/assets/colab-badge.svg\" alt=\"Open In Colab\"/></a>"
      ]
    },
    {
      "cell_type": "code",
      "metadata": {
        "id": "XoiBTVh-IMK-",
        "colab_type": "code",
        "colab": {}
      },
      "source": [
        "import matplotlib.pyplot as plt\n",
        "\n",
        "import numpy as np\n",
        "\n",
        "import tensorflow as tf\n",
        "import tensorflow_probability as tfp\n",
        "from tensorflow_probability import distributions as tfd\n",
        "\n",
        "\n",
        "%matplotlib inline"
      ],
      "execution_count": 1,
      "outputs": []
    },
    {
      "cell_type": "code",
      "metadata": {
        "id": "yiElybyYIhHF",
        "colab_type": "code",
        "colab": {}
      },
      "source": [
        "class Bernoulli:\n",
        "    def __init__(self):\n",
        "        self.a = 1\n",
        "        self.b = 1\n",
        "\n",
        "    def fit(self,data):\n",
        "        data = tf.reshape(tf.convert_to_tensor(data,dtype=tf.int32),[-1])\n",
        "        N = data.shape[0]\n",
        "        positive = int(tf.math.count_nonzero(data))\n",
        "        self.a += positive\n",
        "        self.b += N - positive\n",
        "\n",
        "    def plot_prob(self):\n",
        "        beta = tfd.Beta(self.a,self.b)\n",
        "        x = np.linspace(0,1,1000)\n",
        "        y = beta.prob(x)\n",
        "        plt.plot(x,y)\n",
        "        plt.title(r\"$p\\left (\\mu\\|x\\right)$ for Bernoulli$\\left(x\\|\\mu\\right)$\")\n",
        "        plt.show()"
      ],
      "execution_count": 2,
      "outputs": []
    },
    {
      "cell_type": "code",
      "metadata": {
        "id": "elVe6tPtOQ9W",
        "colab_type": "code",
        "colab": {
          "base_uri": "https://localhost:8080/",
          "height": 283
        },
        "outputId": "907c2f98-b437-4a95-f515-3daa4a4b81f5"
      },
      "source": [
        "b = Bernoulli()\n",
        "\n",
        "# 無情報事前分布をプロット\n",
        "b.plot_prob()"
      ],
      "execution_count": 3,
      "outputs": [
        {
          "output_type": "display_data",
          "data": {
            "image/png": "[encoded data removed]",
            "text/plain": [
              "<Figure size 432x288 with 1 Axes>"
            ]
          },
          "metadata": {
            "tags": [],
            "needs_background": "light"
          }
        }
      ]
    },
    {
      "cell_type": "code",
      "metadata": {
        "id": "yHiWfAm6Zdeb",
        "colab_type": "code",
        "colab": {}
      },
      "source": [
        "# 推定対象の真の分布を作成\n",
        "bern = tfd.Bernoulli(probs=0.75)"
      ],
      "execution_count": 4,
      "outputs": []
    },
    {
      "cell_type": "code",
      "metadata": {
        "id": "X4VmDQP4ZfDS",
        "colab_type": "code",
        "colab": {
          "base_uri": "https://localhost:8080/",
          "height": 283
        },
        "outputId": "2da39d6b-36ef-4fa6-cdad-20f23f2bbb2b"
      },
      "source": [
        "# 真の分布から10個のサンプルを生成し、ベイズ推論\n",
        "b.fit(bern.sample(10))\n",
        "\n",
        "# 事後分布をプロット\n",
        "b.plot_prob()"
      ],
      "execution_count": 5,
      "outputs": [
        {
          "output_type": "display_data",
          "data": {
            "image/png": "[encoded data removed]",
            "text/plain": [
              "<Figure size 432x288 with 1 Axes>"
            ]
          },
          "metadata": {
            "tags": [],
            "needs_background": "light"
          }
        }
      ]
    },
    {
      "cell_type": "code",
      "metadata": {
        "id": "lLlwdcw4ai3I",
        "colab_type": "code",
        "colab": {
          "base_uri": "https://localhost:8080/",
          "height": 283
        },
        "outputId": "63c24a94-ad52-4197-ed3d-910de4a1cbb9"
      },
      "source": [
        "# 更に追加で、真の分布から1000個のサンプルを生成し、ベイズ推論\n",
        "b.fit(bern.sample(1000))\n",
        "\n",
        "# 事後分布をプロット\n",
        "b.plot_prob()"
      ],
      "execution_count": 6,
      "outputs": [
        {
          "output_type": "display_data",
          "data": {
            "image/png": "[encoded data removed]",
            "text/plain": [
              "<Figure size 432x288 with 1 Axes>"
            ]
          },
          "metadata": {
            "tags": [],
            "needs_background": "light"
          }
        }
      ]
    },
    {
      "cell_type": "code",
      "metadata": {
        "id": "IsbSraQnfWmp",
        "colab_type": "code",
        "colab": {}
      },
      "source": [
        ""
      ],
      "execution_count": 6,
      "outputs": []
    }
  ]
}